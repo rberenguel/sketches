{
 "cells": [
  {
   "cell_type": "markdown",
   "metadata": {},
   "source": [
    "This is the notebook required to massage the data for the chord diagram found [here](https://rberenguel.github.io/sketches/chord/index.html).\n",
    "\n",
    "The data in data.txt can be found in [SoccerStats](https://www.soccerstats.com/table.asp?league=spain_2020&tid=v), by selecting `Statistics` and then `Results Grid`. Copy that grid into a text file and tweak it a bit so the spacing and naming is uniform."
   ]
  },
  {
   "cell_type": "code",
   "execution_count": null,
   "metadata": {},
   "outputs": [],
   "source": [
    "import json\n",
    "import numpy as np\n",
    "import pandas as pd\n",
    "\n",
    "data = pd.read_csv(\"data.txt\")"
   ]
  },
  {
   "cell_type": "code",
   "execution_count": null,
   "metadata": {},
   "outputs": [],
   "source": [
    "# Convert the strings defining the results into a 2-array per cell (that's a match, either home or away)\n",
    "\n",
    "def transform(a):\n",
    "    split = a.str.split('-')\n",
    "    return split\n",
    "\n",
    "transformed = data.apply(transform)"
   ]
  },
  {
   "cell_type": "code",
   "execution_count": null,
   "metadata": {},
   "outputs": [],
   "source": [
    "# Compute the goal differential defined in each match array.\n",
    "\n",
    "matrix = transformed.apply(lambda c: c.apply(lambda x: int(x[1])-int(x[0]) if len(x)>1 else 0))"
   ]
  },
  {
   "cell_type": "code",
   "execution_count": null,
   "metadata": {},
   "outputs": [],
   "source": [
    "# Compute the overall (home-away) goal differential\n",
    "\n",
    "reflexed = (-np.tril(matrix)).T+np.triu(matrix)\n",
    "goal_diff_matrix = np.power(2.0, reflexed-reflexed.T)"
   ]
  },
  {
   "cell_type": "code",
   "execution_count": null,
   "metadata": {},
   "outputs": [],
   "source": [
    "# Normalise the matrix (always a good plan) and convert to JSON. Store the labels separately.\n",
    "\n",
    "chord = goal_diff_matrix\n",
    "norm = np.linalg.norm(chord)\n",
    "\n",
    "normalized = chord/norm\n",
    "\n",
    "with open(\"matrix.json\", \"w\") as f:\n",
    "    json.dump(normalized.tolist(), f)\n",
    "    \n",
    "categories = transformed.columns.tolist()\n",
    "    \n",
    "pd.DataFrame([\"name\"] + categories).to_csv(\"categories.csv\", index=False, header=False)"
   ]
  }
 ],
 "metadata": {
  "kernelspec": {
   "display_name": "Python 3",
   "language": "python",
   "name": "python3"
  },
  "language_info": {
   "codemirror_mode": {
    "name": "ipython",
    "version": 3
   },
   "file_extension": ".py",
   "mimetype": "text/x-python",
   "name": "python",
   "nbconvert_exporter": "python",
   "pygments_lexer": "ipython3",
   "version": "3.6.5"
  }
 },
 "nbformat": 4,
 "nbformat_minor": 4
}
